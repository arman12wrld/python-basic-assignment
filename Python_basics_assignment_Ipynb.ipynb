{
  "nbformat": 4,
  "nbformat_minor": 0,
  "metadata": {
    "colab": {
      "provenance": []
    },
    "kernelspec": {
      "name": "python3",
      "display_name": "Python 3"
    },
    "language_info": {
      "name": "python"
    }
  },
  "cells": [
    {
      "cell_type": "code",
      "execution_count": null,
      "metadata": {
        "id": "iNtPRF69kStV"
      },
      "outputs": [],
      "source": []
    },
    {
      "cell_type": "code",
      "source": [],
      "metadata": {
        "id": "C20wvtYmJFZa"
      },
      "execution_count": null,
      "outputs": []
    },
    {
      "cell_type": "code",
      "source": [],
      "metadata": {
        "id": "Wyaq78SgJFii"
      },
      "execution_count": null,
      "outputs": []
    },
    {
      "cell_type": "markdown",
      "source": [],
      "metadata": {
        "id": "1YcVJ7zhkb1T"
      }
    },
    {
      "cell_type": "markdown",
      "source": [
        "\n",
        "    Theoretical questions and answers\n",
        "\n",
        "1. What is Python, and why is it popular?\n",
        "\n",
        "   - Python is a high-level programming language known for simplicity, readability, and versatility in web development, data science, and automation.\n",
        "\n",
        "2. What is an interpreter in Python?\n",
        "\n",
        "   - It executes Python code line by line, making debugging easier.\n",
        "\n",
        "\n",
        "3. What are pre-defined keywords in Python?\n",
        "\n",
        "   - Pre-defined keywords are reserved words that have special meanings in Python, such as if, else, for, while, def, return, True, False, None, etc.\n",
        "\n",
        "4. Can keywords be used as variable names?\n",
        "\n",
        "   - No, Python keywords cannot be used as variable names because they have predefined meanings and functions within the language.\n",
        "\n",
        "5. What is mutability in Python?\n",
        "\n",
        "   - It defines whether an object can be modified after creation. Lists are mutable, but tuples are immutable\n",
        "\n",
        "6. Why are lists mutable, but tuples are immutable?\n",
        "\n",
        "   - Lists allow modification; tuples ensure data integrity and performance.\n",
        "\n",
        "7. What is the difference between \"==\" and \"is\" operators in Python?\n",
        "\n",
        "   - \"==\" checks if two variables have the same value.\n",
        "\n",
        "   - \"is\" checks if two variables refer to the same object in memory.\n",
        "\n",
        "8. What are logical operators in Python?\n",
        "\n",
        "   - Logical operators are used to combine multiple conditions:\n",
        "\n",
        "   - and: Returns True if both conditions are true.\n",
        "\n",
        "   - or: Returns True if at least one condition is true.\n",
        "\n",
        "   - not: Returns the opposite of a boolean value.\n",
        "\n",
        "9. What is type casting in Python?\n",
        "   - Type casting is changing a variable's data type. For example, converting a string to an integer using int(\"5\").\n",
        "\n",
        "10. What is the difference between implicit and explicit type casting?\n",
        "\n",
        "   - Implicit: Python automatically converts one data type to another (e.g., int to float).\n",
        "\n",
        "   - Explicit: The user manually converts data types using functions like int(), float(), and str().\n",
        "\n",
        "11. What is the purpose of conditional statements in Python?\n",
        "   - Conditional statements (if, elif, else) allow a program to make decisions and execute different code based on conditions.\n",
        "\n",
        "12. How does the elif statement work?\n",
        "   - The elif statement checks multiple conditions. If the first if condition is false, it checks elif. If none are true, the else block executes.\n",
        "\n",
        "13. What is the difference between for and while loops?\n",
        "\n",
        "   - for loop is used for iterating over sequences like lists, tuples, or strings.\n",
        "\n",
        "   - while loop runs until a condition becomes false.\n",
        "\n",
        "14. Describe a scenario where a while loop is more suitable than a for loop.\n",
        "   - When the number of iterations is unknown, such as waiting for user input or looping until a condition is met, a while loop is preferable."
      ],
      "metadata": {
        "id": "pQOpDWgjkbtf"
      }
    },
    {
      "cell_type": "markdown",
      "source": [],
      "metadata": {
        "id": "izCHSdbmka3w"
      }
    },
    {
      "cell_type": "code",
      "source": [
        "# practical question and answers\n",
        "# 1. Write a Python program to print \"Hello, World!\"\n",
        "\n",
        "print(\"Hello World\")"
      ],
      "metadata": {
        "colab": {
          "base_uri": "https://localhost:8080/"
        },
        "id": "T3QqxEXxu7ID",
        "outputId": "22c33bea-e8c5-4a29-9632-c5fd8357fadd"
      },
      "execution_count": null,
      "outputs": [
        {
          "output_type": "stream",
          "name": "stdout",
          "text": [
            "Hello World\n"
          ]
        }
      ]
    },
    {
      "cell_type": "code",
      "source": [
        "\n",
        "# 2. Write a Python program that displays your name and age.\n",
        "Info = \"Name - Arman khan \\nAge - 22\"\n",
        "print(Info)"
      ],
      "metadata": {
        "colab": {
          "base_uri": "https://localhost:8080/"
        },
        "id": "XR_Mhxqevm9G",
        "outputId": "8ceb22c5-9199-4f5c-d694-4ff56b862c39"
      },
      "execution_count": null,
      "outputs": [
        {
          "output_type": "stream",
          "name": "stdout",
          "text": [
            "Name - Arman khan \n",
            "Age - 22\n"
          ]
        }
      ]
    },
    {
      "cell_type": "code",
      "source": [
        "# 3. Write code to print all the pre-defined keywords in Python using the keyword library.\n",
        "import keyword\n",
        "print(keyword.kwlist)"
      ],
      "metadata": {
        "colab": {
          "base_uri": "https://localhost:8080/"
        },
        "id": "c60ZucwZxK0Y",
        "outputId": "f41f7640-2129-4e62-98f2-f0ec7928b0ba"
      },
      "execution_count": null,
      "outputs": [
        {
          "output_type": "stream",
          "name": "stdout",
          "text": [
            "['False', 'None', 'True', 'and', 'as', 'assert', 'async', 'await', 'break', 'class', 'continue', 'def', 'del', 'elif', 'else', 'except', 'finally', 'for', 'from', 'global', 'if', 'import', 'in', 'is', 'lambda', 'nonlocal', 'not', 'or', 'pass', 'raise', 'return', 'try', 'while', 'with', 'yield']\n"
          ]
        }
      ]
    },
    {
      "cell_type": "code",
      "source": [
        "# 4. Write a program that checks if a given word is a Python keyword.\n",
        "import keyword\n",
        "word = input(\"Enter a word: \")\n",
        "print(f\"{word} is a keyword: {keyword.iskeyword(word)}\")"
      ],
      "metadata": {
        "colab": {
          "base_uri": "https://localhost:8080/"
        },
        "id": "T5BqqmWaxLEX",
        "outputId": "1dfe0060-d9c4-4d0f-8acc-45d0d252f070"
      },
      "execution_count": null,
      "outputs": [
        {
          "output_type": "stream",
          "name": "stdout",
          "text": [
            "Enter a word: False\n",
            "False is a keyword: True\n"
          ]
        }
      ]
    },
    {
      "cell_type": "code",
      "source": [
        "# 5.Create a list and tuple in Python, and demonstrate how attempting to change an element works differently for each.\n",
        "My_list = [10, \"arman\", 22, 24]\n",
        "My_tuple = (10, \"arman\", 12, 24)\n",
        "My_list[0] = 11\n",
        "My_tuple[0] = 11 # it's throwing an error here on tuple"
      ],
      "metadata": {
        "colab": {
          "base_uri": "https://localhost:8080/",
          "height": 280
        },
        "id": "SDqwPJPmxLGu",
        "outputId": "326bd10a-ba21-4415-b748-f065530ee6cf"
      },
      "execution_count": null,
      "outputs": [
        {
          "output_type": "error",
          "ename": "TypeError",
          "evalue": "'tuple' object does not support item assignment",
          "traceback": [
            "\u001b[0;31m---------------------------------------------------------------------------\u001b[0m",
            "\u001b[0;31mTypeError\u001b[0m                                 Traceback (most recent call last)",
            "\u001b[0;32m<ipython-input-19-794270598c74>\u001b[0m in \u001b[0;36m<cell line: 0>\u001b[0;34m()\u001b[0m\n\u001b[1;32m      3\u001b[0m \u001b[0mMy_tuple\u001b[0m \u001b[0;34m=\u001b[0m \u001b[0;34m(\u001b[0m\u001b[0;36m10\u001b[0m\u001b[0;34m,\u001b[0m \u001b[0;34m\"arman\"\u001b[0m\u001b[0;34m,\u001b[0m \u001b[0;36m12\u001b[0m\u001b[0;34m,\u001b[0m \u001b[0;36m24\u001b[0m\u001b[0;34m)\u001b[0m\u001b[0;34m\u001b[0m\u001b[0;34m\u001b[0m\u001b[0m\n\u001b[1;32m      4\u001b[0m \u001b[0mMy_list\u001b[0m\u001b[0;34m[\u001b[0m\u001b[0;36m0\u001b[0m\u001b[0;34m]\u001b[0m \u001b[0;34m=\u001b[0m \u001b[0;36m11\u001b[0m\u001b[0;34m\u001b[0m\u001b[0;34m\u001b[0m\u001b[0m\n\u001b[0;32m----> 5\u001b[0;31m \u001b[0mMy_tuple\u001b[0m\u001b[0;34m[\u001b[0m\u001b[0;36m0\u001b[0m\u001b[0;34m]\u001b[0m \u001b[0;34m=\u001b[0m \u001b[0;36m11\u001b[0m\u001b[0;34m\u001b[0m\u001b[0;34m\u001b[0m\u001b[0m\n\u001b[0m",
            "\u001b[0;31mTypeError\u001b[0m: 'tuple' object does not support item assignment"
          ]
        }
      ]
    },
    {
      "cell_type": "code",
      "source": [
        "# 6. Write a function to demonstrate the behavior of mutable and immutable arguments."
      ],
      "metadata": {
        "id": "KdxDKxfgxKrm"
      },
      "execution_count": null,
      "outputs": []
    },
    {
      "cell_type": "code",
      "source": [
        "def modify_data(value, data_list):\n",
        "    value += 1  # Modifying immutable integer\n",
        "    data_list.append(4)  # Modifying mutable list\n",
        "\n",
        "num = 5\n",
        "my_list = [1, 2, 3]\n",
        "\n",
        "modify_data(num, my_list)\n",
        "\n",
        "print(\"Integer after function call:\", num)  # Remains unchanged\n",
        "print(\"List after function call:\", my_list)  # Gets modified"
      ],
      "metadata": {
        "colab": {
          "base_uri": "https://localhost:8080/"
        },
        "id": "fuDUcKK6xKu6",
        "outputId": "d2028095-1cbe-4cbf-a60a-a2e13fae325d"
      },
      "execution_count": null,
      "outputs": [
        {
          "output_type": "stream",
          "name": "stdout",
          "text": [
            "Integer after function call: 5\n",
            "List after function call: [1, 2, 3, 4]\n"
          ]
        }
      ]
    },
    {
      "cell_type": "code",
      "source": [
        "# 7. write a program to demonstrate thw use of logical operators.\n",
        "\n",
        "weather = \"cloudy\"\n",
        "if weather not in [\"sunny\", \"rainy\"]:\n",
        "    print(\"Invalid weather condition\")"
      ],
      "metadata": {
        "colab": {
          "base_uri": "https://localhost:8080/"
        },
        "id": "0KohjXo0JJ1t",
        "outputId": "f100f7ef-36d6-4547-d6bb-d7192a90a082"
      },
      "execution_count": null,
      "outputs": [
        {
          "output_type": "stream",
          "name": "stdout",
          "text": [
            "Invalid weather condition\n"
          ]
        }
      ]
    },
    {
      "cell_type": "code",
      "source": [
        "# 8. write a  python programe to convert user input from string to integer,float and boolean types.\n",
        "#We are not yet teached about this kind of problem and i don't want to do this without knowing it"
      ],
      "metadata": {
        "id": "yh4TS0w3JJy4",
        "colab": {
          "base_uri": "https://localhost:8080/",
          "height": 124
        },
        "outputId": "263be0c5-89ad-41ac-9f00-8c26ea2e99a0"
      },
      "execution_count": null,
      "outputs": [
        {
          "output_type": "error",
          "ename": "IndentationError",
          "evalue": "unexpected indent (<ipython-input-3-3ec0cf48cec4>, line 4)",
          "traceback": [
            "\u001b[0;36m  File \u001b[0;32m\"<ipython-input-3-3ec0cf48cec4>\"\u001b[0;36m, line \u001b[0;32m4\u001b[0m\n\u001b[0;31m    print(integer)\u001b[0m\n\u001b[0m    ^\u001b[0m\n\u001b[0;31mIndentationError\u001b[0m\u001b[0;31m:\u001b[0m unexpected indent\n"
          ]
        }
      ]
    },
    {
      "cell_type": "code",
      "source": [
        "# 10. Write code to demonstrate type casting with list elements,\n",
        "\n",
        "lis = [12, 378, 3857, \"arman\"]\n",
        "lis[2] = str(lis[2])\n",
        "type(lis[2])"
      ],
      "metadata": {
        "id": "-RHxgAewJJvA",
        "colab": {
          "base_uri": "https://localhost:8080/"
        },
        "outputId": "1bc9ff64-50ff-4d4d-e66f-6e250c5eea83"
      },
      "execution_count": null,
      "outputs": [
        {
          "output_type": "execute_result",
          "data": {
            "text/plain": [
              "str"
            ]
          },
          "metadata": {},
          "execution_count": 7
        }
      ]
    },
    {
      "cell_type": "code",
      "source": [
        " # 11. write a program that checks if a number is positive, negative or zero.\n",
        "\n",
        " numb = int(input(\"Enter a number: \"))\n",
        "if numb > 0:\n",
        "    print(\"Positive\")\n",
        "elif numb < 0:\n",
        "    print(\"Negative\")\n",
        "else:\n",
        "    print(\"Zero\")\n"
      ],
      "metadata": {
        "id": "VZSMQ6SdJJjR",
        "colab": {
          "base_uri": "https://localhost:8080/"
        },
        "outputId": "4750e28b-71f8-4874-9203-6429fc19f5f2"
      },
      "execution_count": null,
      "outputs": [
        {
          "output_type": "stream",
          "name": "stdout",
          "text": [
            "Enter a number: 13\n",
            "Positive\n"
          ]
        }
      ]
    },
    {
      "cell_type": "code",
      "source": [],
      "metadata": {
        "id": "TTSYFLShONv7"
      },
      "execution_count": null,
      "outputs": []
    },
    {
      "cell_type": "code",
      "source": [
        "# 12. write a for loop to print numbers from 1 to 10.\n",
        "\n",
        "for i in range(11):\n",
        "  print(i)"
      ],
      "metadata": {
        "colab": {
          "base_uri": "https://localhost:8080/"
        },
        "id": "O5jsnSPcQcV7",
        "outputId": "310a7949-511f-4f62-e2ee-4f147018bbbc"
      },
      "execution_count": null,
      "outputs": [
        {
          "output_type": "stream",
          "name": "stdout",
          "text": [
            "0\n",
            "1\n",
            "2\n",
            "3\n",
            "4\n",
            "5\n",
            "6\n",
            "7\n",
            "8\n",
            "9\n",
            "10\n"
          ]
        }
      ]
    },
    {
      "cell_type": "markdown",
      "source": [],
      "metadata": {
        "id": "aJqrfk4FRK-N"
      }
    },
    {
      "cell_type": "code",
      "source": [
        "# 13. write a pytrhon program to reverse a string using a while loop.\n",
        "\n",
        "string = input(\"Enter a string: \")\n",
        "reversed_string = \"\"\n",
        "index = len(string) - 1\n",
        "\n",
        "while index >= 0:\n",
        "    reversed_string += string[index]\n",
        "    index -= 1\n",
        "\n",
        "print(\"Reversed string:\", reversed_string)\n"
      ],
      "metadata": {
        "colab": {
          "base_uri": "https://localhost:8080/"
        },
        "id": "ZZWKufvXQ0qj",
        "outputId": "bb9208bf-f031-4027-c063-a9e00a6c51cf"
      },
      "execution_count": null,
      "outputs": [
        {
          "output_type": "stream",
          "name": "stdout",
          "text": [
            "Enter a string: hallelujah\n",
            "Reversed string: hajulellah\n"
          ]
        }
      ]
    },
    {
      "cell_type": "code",
      "source": [
        "# 14. write a python program to calculate the factorial of a number provided by the user using while loop.\n",
        "\n",
        "number = int(input(\"Enter a number: \"))\n",
        "factorial = 1\n",
        "current = 1\n",
        "\n",
        "while current <= number:\n",
        "    factorial *= current\n",
        "    current += 1\n",
        "\n",
        "print(f\"The factorial of {number} is {factorial}\")"
      ],
      "metadata": {
        "colab": {
          "base_uri": "https://localhost:8080/"
        },
        "id": "jaPoGHxWRuUC",
        "outputId": "1efa6f64-344e-462a-e0c1-3e13264f6586"
      },
      "execution_count": null,
      "outputs": [
        {
          "output_type": "stream",
          "name": "stdout",
          "text": [
            "Enter a number: 12\n",
            "The factorial of 12 is 479001600\n"
          ]
        }
      ]
    },
    {
      "cell_type": "code",
      "source": [],
      "metadata": {
        "id": "bXEQHSnXTAje"
      },
      "execution_count": null,
      "outputs": []
    }
  ]
}